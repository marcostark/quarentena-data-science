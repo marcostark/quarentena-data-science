{
  "nbformat": 4,
  "nbformat_minor": 0,
  "metadata": {
    "colab": {
      "name": "DSQuarentena-Desafios.ipynb",
      "provenance": [],
      "collapsed_sections": []
    },
    "kernelspec": {
      "name": "python3",
      "display_name": "Python 3"
    }
  },
  "cells": [
    {
      "cell_type": "markdown",
      "metadata": {
        "id": "exl0MY1o32kx",
        "colab_type": "text"
      },
      "source": [
        "# Desafio 1\n",
        "\n",
        "Determinar quantos filmes não possuem avaliações e quais são os filmes\n"
      ]
    },
    {
      "cell_type": "code",
      "metadata": {
        "id": "BF45szrC3-3d",
        "colab_type": "code",
        "colab": {}
      },
      "source": [
        ""
      ],
      "execution_count": 0,
      "outputs": []
    },
    {
      "cell_type": "markdown",
      "metadata": {
        "id": "1cdCU0Kt321W",
        "colab_type": "text"
      },
      "source": [
        "# Desafio 2\n",
        "Mudar o nome da coluna do dataframe `ratings_movie` para `note_mean` ap\n",
        "os o join"
      ]
    },
    {
      "cell_type": "markdown",
      "metadata": {
        "id": "lPPGVW-F33Eb",
        "colab_type": "text"
      },
      "source": [
        "# Desafio 3\n",
        "\n",
        "Colocar o número de avaliações por filme, não apenas a média, mas o TOTAL de votos por filmes"
      ]
    },
    {
      "cell_type": "markdown",
      "metadata": {
        "id": "a5AIPAhY33OI",
        "colab_type": "text"
      },
      "source": [
        "# Desafio 4\n",
        "\n",
        "Arrendondar as médias(coluna de nota média) para duas casas decimais"
      ]
    },
    {
      "cell_type": "markdown",
      "metadata": {
        "id": "qC68vNuj33WJ",
        "colab_type": "text"
      },
      "source": [
        "# Desafio 5\n",
        "\n",
        "Descobrir os generos dos filmes(quais são eles, únicos)"
      ]
    },
    {
      "cell_type": "markdown",
      "metadata": {
        "id": "aJ7jsKPg33fT",
        "colab_type": "text"
      },
      "source": [
        "# Desafio 6\n",
        "\n",
        "Contar o número de aparições de cada genero"
      ]
    },
    {
      "cell_type": "markdown",
      "metadata": {
        "id": "lsmZQWWt45oc",
        "colab_type": "text"
      },
      "source": [
        "# Desafio 7\n",
        "\n",
        "Plotar o gráfico de aparições de cada genero. Pode ser um gráfico de tipo igual a barra"
      ]
    },
    {
      "cell_type": "code",
      "metadata": {
        "id": "Lk39__rN44L9",
        "colab_type": "code",
        "colab": {}
      },
      "source": [
        ""
      ],
      "execution_count": 0,
      "outputs": []
    }
  ]
}